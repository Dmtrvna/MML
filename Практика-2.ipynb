{
  "cells": [
    {
      "cell_type": "markdown",
      "metadata": {
        "id": "view-in-github",
        "colab_type": "text"
      },
      "source": [
        "<a href=\"https://colab.research.google.com/github/Dmtrvna/MML/blob/main/%D0%9F%D1%80%D0%B0%D0%BA%D1%82%D0%B8%D0%BA%D0%B0-2.ipynb\" target=\"_parent\"><img src=\"https://colab.research.google.com/assets/colab-badge.svg\" alt=\"Open In Colab\"/></a>"
      ]
    },
    {
      "cell_type": "markdown",
      "metadata": {
        "id": "nqqcaamYu3rQ"
      },
      "source": [
        "# Домашнее задание про практике 2"
      ]
    },
    {
      "cell_type": "markdown",
      "metadata": {
        "id": "PmV7k0V0viI3"
      },
      "source": [
        "- Провести разведочный анализ EDA (описать полученный результат). Тут важно, влияет ли X[i] на Y (примеры в практике 2)\n",
        "- Описать полученный результат относительно анализа целевой перменной и зависимой (см. практика 2)\n",
        "- Подобороться с пропусками в данных (при наличии в датасете). Объяснить способ выборка борьбы с пропуском\n",
        "- Обучить модель линейной регресии на всей выборке X, y. Вывести метрики\n",
        "- Сделать train_test_split и обучить на обучающей выборке. Предсказать результат на обучающей и тестовой выборках. Вывести метрики, объяснить полученный результат"
      ]
    },
    {
      "cell_type": "code",
      "source": [
        "!pip install pandas seaborn scikit-learn"
      ],
      "metadata": {
        "colab": {
          "base_uri": "https://localhost:8080/"
        },
        "id": "16MhB16cXq_1",
        "outputId": "55e56b99-c809-4ee4-81a9-1adc83a98dac"
      },
      "execution_count": null,
      "outputs": [
        {
          "output_type": "stream",
          "name": "stdout",
          "text": [
            "Requirement already satisfied: pandas in /usr/local/lib/python3.12/dist-packages (2.2.2)\n",
            "Requirement already satisfied: seaborn in /usr/local/lib/python3.12/dist-packages (0.13.2)\n",
            "Requirement already satisfied: scikit-learn in /usr/local/lib/python3.12/dist-packages (1.6.1)\n",
            "Requirement already satisfied: numpy>=1.26.0 in /usr/local/lib/python3.12/dist-packages (from pandas) (2.0.2)\n",
            "Requirement already satisfied: python-dateutil>=2.8.2 in /usr/local/lib/python3.12/dist-packages (from pandas) (2.9.0.post0)\n",
            "Requirement already satisfied: pytz>=2020.1 in /usr/local/lib/python3.12/dist-packages (from pandas) (2025.2)\n",
            "Requirement already satisfied: tzdata>=2022.7 in /usr/local/lib/python3.12/dist-packages (from pandas) (2025.2)\n",
            "Requirement already satisfied: matplotlib!=3.6.1,>=3.4 in /usr/local/lib/python3.12/dist-packages (from seaborn) (3.10.0)\n",
            "Requirement already satisfied: scipy>=1.6.0 in /usr/local/lib/python3.12/dist-packages (from scikit-learn) (1.16.2)\n",
            "Requirement already satisfied: joblib>=1.2.0 in /usr/local/lib/python3.12/dist-packages (from scikit-learn) (1.5.2)\n",
            "Requirement already satisfied: threadpoolctl>=3.1.0 in /usr/local/lib/python3.12/dist-packages (from scikit-learn) (3.6.0)\n",
            "Requirement already satisfied: contourpy>=1.0.1 in /usr/local/lib/python3.12/dist-packages (from matplotlib!=3.6.1,>=3.4->seaborn) (1.3.3)\n",
            "Requirement already satisfied: cycler>=0.10 in /usr/local/lib/python3.12/dist-packages (from matplotlib!=3.6.1,>=3.4->seaborn) (0.12.1)\n",
            "Requirement already satisfied: fonttools>=4.22.0 in /usr/local/lib/python3.12/dist-packages (from matplotlib!=3.6.1,>=3.4->seaborn) (4.60.1)\n",
            "Requirement already satisfied: kiwisolver>=1.3.1 in /usr/local/lib/python3.12/dist-packages (from matplotlib!=3.6.1,>=3.4->seaborn) (1.4.9)\n",
            "Requirement already satisfied: packaging>=20.0 in /usr/local/lib/python3.12/dist-packages (from matplotlib!=3.6.1,>=3.4->seaborn) (25.0)\n",
            "Requirement already satisfied: pillow>=8 in /usr/local/lib/python3.12/dist-packages (from matplotlib!=3.6.1,>=3.4->seaborn) (11.3.0)\n",
            "Requirement already satisfied: pyparsing>=2.3.1 in /usr/local/lib/python3.12/dist-packages (from matplotlib!=3.6.1,>=3.4->seaborn) (3.2.5)\n",
            "Requirement already satisfied: six>=1.5 in /usr/local/lib/python3.12/dist-packages (from python-dateutil>=2.8.2->pandas) (1.17.0)\n"
          ]
        }
      ]
    },
    {
      "cell_type": "code",
      "execution_count": null,
      "metadata": {
        "id": "-ByF7CbPu8tB"
      },
      "outputs": [],
      "source": [
        "import pandas as pd\n",
        "from sklearn.preprocessing import OneHotEncoder, StandardScaler, LabelEncoder\n",
        "import numpy as np"
      ]
    },
    {
      "cell_type": "code",
      "source": [
        "df = pd.read_csv(\"/content/student_depression_dataset.csv\")\n",
        "\n",
        "df.info()"
      ],
      "metadata": {
        "colab": {
          "base_uri": "https://localhost:8080/"
        },
        "id": "egCPnPbk-83H",
        "outputId": "82a8782e-89d6-4e31-af6d-41bfeeca79b2"
      },
      "execution_count": null,
      "outputs": [
        {
          "output_type": "stream",
          "name": "stdout",
          "text": [
            "<class 'pandas.core.frame.DataFrame'>\n",
            "RangeIndex: 27901 entries, 0 to 27900\n",
            "Data columns (total 18 columns):\n",
            " #   Column                                 Non-Null Count  Dtype  \n",
            "---  ------                                 --------------  -----  \n",
            " 0   id                                     27901 non-null  int64  \n",
            " 1   Gender                                 27901 non-null  object \n",
            " 2   Age                                    27901 non-null  float64\n",
            " 3   City                                   27901 non-null  object \n",
            " 4   Profession                             27901 non-null  object \n",
            " 5   Academic Pressure                      27901 non-null  float64\n",
            " 6   Work Pressure                          27901 non-null  float64\n",
            " 7   CGPA                                   27901 non-null  float64\n",
            " 8   Study Satisfaction                     27901 non-null  float64\n",
            " 9   Job Satisfaction                       27901 non-null  float64\n",
            " 10  Sleep Duration                         27901 non-null  object \n",
            " 11  Dietary Habits                         27901 non-null  object \n",
            " 12  Degree                                 27901 non-null  object \n",
            " 13  Have you ever had suicidal thoughts ?  27901 non-null  object \n",
            " 14  Work/Study Hours                       27901 non-null  float64\n",
            " 15  Financial Stress                       27901 non-null  object \n",
            " 16  Family History of Mental Illness       27901 non-null  object \n",
            " 17  Depression                             27901 non-null  int64  \n",
            "dtypes: float64(7), int64(2), object(9)\n",
            "memory usage: 3.8+ MB\n"
          ]
        }
      ]
    },
    {
      "cell_type": "code",
      "execution_count": null,
      "metadata": {
        "id": "kYBmPfxlvBUs",
        "colab": {
          "base_uri": "https://localhost:8080/"
        },
        "outputId": "03b3e38a-bfac-485a-d035-427ed4f78323"
      },
      "outputs": [
        {
          "output_type": "stream",
          "name": "stdout",
          "text": [
            "<class 'pandas.core.frame.DataFrame'>\n",
            "RangeIndex: 27901 entries, 0 to 27900\n",
            "Data columns (total 18 columns):\n",
            " #   Column                                 Non-Null Count  Dtype   \n",
            "---  ------                                 --------------  -----   \n",
            " 0   id                                     27901 non-null  int64   \n",
            " 1   Gender                                 27901 non-null  category\n",
            " 2   Age                                    27901 non-null  float64 \n",
            " 3   City                                   27901 non-null  category\n",
            " 4   Profession                             27901 non-null  category\n",
            " 5   Academic Pressure                      27901 non-null  float64 \n",
            " 6   Work Pressure                          27901 non-null  float64 \n",
            " 7   CGPA                                   27901 non-null  float64 \n",
            " 8   Study Satisfaction                     27901 non-null  float64 \n",
            " 9   Job Satisfaction                       27901 non-null  float64 \n",
            " 10  Sleep Duration                         27901 non-null  object  \n",
            " 11  Dietary Habits                         27901 non-null  category\n",
            " 12  Degree                                 27901 non-null  category\n",
            " 13  Have you ever had suicidal thoughts ?  27901 non-null  category\n",
            " 14  Work/Study Hours                       27901 non-null  float64 \n",
            " 15  Financial Stress                       27901 non-null  object  \n",
            " 16  Family History of Mental Illness       27901 non-null  category\n",
            " 17  Depression                             27901 non-null  category\n",
            "dtypes: category(8), float64(7), int64(1), object(2)\n",
            "memory usage: 2.3+ MB\n"
          ]
        }
      ],
      "source": [
        "# Преобразование категориальных признаков в category\n",
        "categorical = [\"Gender\", \"City\", \"Profession\", \"Have you ever had suicidal thoughts ?\", \"Family History of Mental Illness\", \"Depression\", \"Dietary Habits\", \"Degree\"]\n",
        "\n",
        "for col in categorical:\n",
        "    df[col] = df[col].astype('category')\n",
        "\n",
        "df.info()"
      ]
    },
    {
      "cell_type": "code",
      "execution_count": null,
      "metadata": {
        "id": "mNCCwK52vKpO",
        "colab": {
          "base_uri": "https://localhost:8080/"
        },
        "outputId": "fa03e12b-0a37-49b6-e986-1ef92b3df2c8"
      },
      "outputs": [
        {
          "output_type": "stream",
          "name": "stdout",
          "text": [
            "Размер X: (27901, 17)\n",
            "Размер y: (27901,)\n"
          ]
        }
      ],
      "source": [
        "# выбрать целевую переменную и разделить на X, y\n",
        "# целевая переменная - числовой непрерывный признак\n",
        "\n",
        "# y - целевая переменная, X - зависимая\n",
        "y = df.Depression\n",
        "X = df.drop('Depression', axis=1)\n",
        "\n",
        "print(f\"Размер X: {X.shape}\")\n",
        "print(f\"Размер y: {y.shape}\")"
      ]
    },
    {
      "cell_type": "markdown",
      "metadata": {
        "id": "eAjGz9j5wUlB"
      },
      "source": [
        "## EDA (разведочный анализ относительно целевой переменной)\n",
        "\n",
        "в этом же блоке побороться с пропусками, важно сделать именно после разведочного анализа\n",
        "- Y и категориальные\n",
        "- Y и числовые\n",
        "- Описать все полученные результаты в своем блоке\n",
        "\n",
        "- Отобрать признаки для дальнейшего анализа, записать в ```best_features```"
      ]
    },
    {
      "cell_type": "code",
      "execution_count": null,
      "metadata": {
        "id": "ADEn3gA6wj0L",
        "colab": {
          "base_uri": "https://localhost:8080/"
        },
        "outputId": "dd2e5cf8-b064-49eb-eee8-b589d043c2ae"
      },
      "outputs": [
        {
          "output_type": "execute_result",
          "data": {
            "text/plain": [
              "np.int64(0)"
            ]
          },
          "metadata": {},
          "execution_count": 37
        }
      ],
      "source": [
        "# Проверка пропусков в целевой переменной\n",
        "y.isnull().sum()"
      ]
    },
    {
      "cell_type": "code",
      "execution_count": null,
      "metadata": {
        "id": "l_fD-dVtwi0D",
        "colab": {
          "base_uri": "https://localhost:8080/",
          "height": 617
        },
        "outputId": "f924cb27-3af3-49ef-b732-f4d791d69ecb"
      },
      "outputs": [
        {
          "output_type": "execute_result",
          "data": {
            "text/plain": [
              "id                                       0\n",
              "Gender                                   0\n",
              "Age                                      0\n",
              "City                                     0\n",
              "Profession                               0\n",
              "Academic Pressure                        0\n",
              "Work Pressure                            0\n",
              "CGPA                                     0\n",
              "Study Satisfaction                       0\n",
              "Job Satisfaction                         0\n",
              "Sleep Duration                           0\n",
              "Dietary Habits                           0\n",
              "Degree                                   0\n",
              "Have you ever had suicidal thoughts ?    0\n",
              "Work/Study Hours                         0\n",
              "Financial Stress                         0\n",
              "Family History of Mental Illness         0\n",
              "dtype: int64"
            ],
            "text/html": [
              "<div>\n",
              "<style scoped>\n",
              "    .dataframe tbody tr th:only-of-type {\n",
              "        vertical-align: middle;\n",
              "    }\n",
              "\n",
              "    .dataframe tbody tr th {\n",
              "        vertical-align: top;\n",
              "    }\n",
              "\n",
              "    .dataframe thead th {\n",
              "        text-align: right;\n",
              "    }\n",
              "</style>\n",
              "<table border=\"1\" class=\"dataframe\">\n",
              "  <thead>\n",
              "    <tr style=\"text-align: right;\">\n",
              "      <th></th>\n",
              "      <th>0</th>\n",
              "    </tr>\n",
              "  </thead>\n",
              "  <tbody>\n",
              "    <tr>\n",
              "      <th>id</th>\n",
              "      <td>0</td>\n",
              "    </tr>\n",
              "    <tr>\n",
              "      <th>Gender</th>\n",
              "      <td>0</td>\n",
              "    </tr>\n",
              "    <tr>\n",
              "      <th>Age</th>\n",
              "      <td>0</td>\n",
              "    </tr>\n",
              "    <tr>\n",
              "      <th>City</th>\n",
              "      <td>0</td>\n",
              "    </tr>\n",
              "    <tr>\n",
              "      <th>Profession</th>\n",
              "      <td>0</td>\n",
              "    </tr>\n",
              "    <tr>\n",
              "      <th>Academic Pressure</th>\n",
              "      <td>0</td>\n",
              "    </tr>\n",
              "    <tr>\n",
              "      <th>Work Pressure</th>\n",
              "      <td>0</td>\n",
              "    </tr>\n",
              "    <tr>\n",
              "      <th>CGPA</th>\n",
              "      <td>0</td>\n",
              "    </tr>\n",
              "    <tr>\n",
              "      <th>Study Satisfaction</th>\n",
              "      <td>0</td>\n",
              "    </tr>\n",
              "    <tr>\n",
              "      <th>Job Satisfaction</th>\n",
              "      <td>0</td>\n",
              "    </tr>\n",
              "    <tr>\n",
              "      <th>Sleep Duration</th>\n",
              "      <td>0</td>\n",
              "    </tr>\n",
              "    <tr>\n",
              "      <th>Dietary Habits</th>\n",
              "      <td>0</td>\n",
              "    </tr>\n",
              "    <tr>\n",
              "      <th>Degree</th>\n",
              "      <td>0</td>\n",
              "    </tr>\n",
              "    <tr>\n",
              "      <th>Have you ever had suicidal thoughts ?</th>\n",
              "      <td>0</td>\n",
              "    </tr>\n",
              "    <tr>\n",
              "      <th>Work/Study Hours</th>\n",
              "      <td>0</td>\n",
              "    </tr>\n",
              "    <tr>\n",
              "      <th>Financial Stress</th>\n",
              "      <td>0</td>\n",
              "    </tr>\n",
              "    <tr>\n",
              "      <th>Family History of Mental Illness</th>\n",
              "      <td>0</td>\n",
              "    </tr>\n",
              "  </tbody>\n",
              "</table>\n",
              "</div><br><label><b>dtype:</b> int64</label>"
            ]
          },
          "metadata": {},
          "execution_count": 38
        }
      ],
      "source": [
        "# Проверка пропусков во всех признаках\n",
        "X.isnull().sum()"
      ]
    },
    {
      "cell_type": "markdown",
      "source": [
        "В результате видим, что в нашем датасете нет пропусков."
      ],
      "metadata": {
        "id": "nOWmGx1ubYHm"
      }
    },
    {
      "cell_type": "code",
      "source": [
        "print('Размерность X:', X.shape)\n",
        "print('Размерность y:', y.shape)"
      ],
      "metadata": {
        "colab": {
          "base_uri": "https://localhost:8080/"
        },
        "id": "h6AsZcpecVpH",
        "outputId": "942cb1d4-92cd-455a-8f6a-90b2ea248ee9"
      },
      "execution_count": null,
      "outputs": [
        {
          "output_type": "stream",
          "name": "stdout",
          "text": [
            "Размерность X: (27901, 17)\n",
            "Размерность y: (27901,)\n"
          ]
        }
      ]
    },
    {
      "cell_type": "code",
      "execution_count": null,
      "metadata": {
        "id": "YJot4MMAz6oc"
      },
      "outputs": [],
      "source": [
        "# Отобранные категориальные фичи\n",
        "categorial_features = [\"Gender\", \"Have you ever had suicidal thoughts ?\",\n",
        "                       \"Family History of Mental Illness\", \"Dietary Habits\", \"Degree\"]\n",
        "# Отобранные числовые непрерывные фичи\n",
        "numeric_features = [\"Age\", \"CGPA\", \"Work/Study Hours\"]\n",
        "\n",
        "best_features = categorial_features + numeric_features"
      ]
    },
    {
      "cell_type": "markdown",
      "metadata": {
        "id": "Vz4kuQwtwYxX"
      },
      "source": [
        "## Моделирование"
      ]
    },
    {
      "cell_type": "markdown",
      "source": [
        "### Описание"
      ],
      "metadata": {
        "id": "ndXsIFBl_Z5y"
      }
    },
    {
      "cell_type": "markdown",
      "metadata": {
        "id": "0Bw6wuHtm4F9"
      },
      "source": [
        "\n",
        "\n",
        "**Общая задача:**\n",
        "Сравнить несколько вариантов линейной регрессии на датасете (с предобработкой признаков: стандартизация числовых, OneHot/Label для категориальных).\n",
        "\n",
        "**предобработка**\n",
        "- Категориальные признаки преобразовать с помощью OneHotEncoder (если признак является типом **bool** по логике можно интерпретировать как (true, false) То можно LabelEncoder)\n",
        "- Числовые признаки записать в `X_scaled` и провести стандартизацию с помощью `StandardScaler`. Желательно без категориальных признаков\n",
        "\n",
        "\n",
        "---\n",
        "**Метрики**: (MAE, MAPE, R², MSE, RMSE)\n",
        "\n",
        "---\n",
        "\n",
        "**Модель 1.**\n",
        "\n",
        "- Использовать **все признаки (кроме y)**.\n",
        "- Обучить на **всей выборке** (без разделения).\n",
        "- Сделать предсказания на этой же выборке.\n",
        "- Вывести метрики и интерпретировать.\n",
        "- Построить график коэффициентов (model.coef\\_ vs X\\_scaled.columns) и интерпретировать.\n",
        "\n",
        "---\n",
        "\n",
        "**Модель 2.**\n",
        "\n",
        "- Использовать **все признаки**.\n",
        "- Сделать `train_test_split`.\n",
        "- Обучить на `X_train`, предсказать на `X_train` и `X_test`.\n",
        "- Вывести метрики для обучающей и тестовой выборки, интерпретировать.\n",
        "- Визуализировать коэффициенты и интерпретировать.\n",
        "\n",
        "---\n",
        "\n",
        "**Модель 3.**\n",
        "\n",
        "- Использовать только **best\\_features** (отобранные признаки).\n",
        "- Обучить на **всей выборке**.\n",
        "- Предсказать на всей выборке.\n",
        "- Вывести метрики качества и интерпретировать.\n",
        "- Визуализировать коэффициенты и интерпретировать.\n",
        "\n",
        "---\n",
        "\n",
        "**Модель 4.**\n",
        "\n",
        "- Использовать **best\\_features**.\n",
        "- Сделать `train_test_split`.\n",
        "- Обучить на `X_train`, предсказать на `X_train` и `X_test`.\n",
        "- Вывести метрики качества для обучающей и тестовой выборки, интерпретировать.\n",
        "- Визуализировать коэффициенты и интерпретировать.\n",
        "\n",
        "---\n",
        "\n",
        "P.S.\n",
        "- Важно не забывать о стандартизации и разделении категориальных признаков на отдельные олонки\n",
        "- Все примеры есть в практике 2\n",
        "\n",
        "\n",
        "P.S.S\n",
        "Старайтесь делать собственные предположения, ChatGPT задачу решит, но вы не добьетесь понимания полученных результатов\n",
        "\n",
        "---\n",
        "В результате должно получиться 4 модели\n",
        "\n",
        "- первые две на всех колонках (фичах)\n",
        "- последующие на отобранных фичах (колонках)"
      ]
    },
    {
      "cell_type": "markdown",
      "source": [
        "### Предобработка"
      ],
      "metadata": {
        "id": "3DZ8s-6X-shf"
      }
    },
    {
      "cell_type": "code",
      "source": [
        "# Кодирование категориальных признаков\n",
        "cat_cols = [\"Dietary Habits\", \"Degree\"]\n",
        "bin_cols = [\"Gender\", \"Have you ever had suicidal thoughts ?\", \"Family History of Mental Illness\"]\n",
        "\n",
        "labEncoder = LabelEncoder()\n",
        "for col in bin_cols:\n",
        "    df[col] = labEncoder.fit_transform(df[col])\n",
        "\n",
        "encoder = OneHotEncoder(sparse_output=False)\n",
        "cat_encoded = encoder.fit_transform(df[cat_cols])"
      ],
      "metadata": {
        "id": "LBjnjAGX-r18"
      },
      "execution_count": null,
      "outputs": []
    },
    {
      "cell_type": "code",
      "source": [
        "# Масштабирование числовых признаков\n",
        "num_cols = [\"Age\", \"CGPA\", \"Work/Study Hours\"]\n",
        "scaler = StandardScaler()\n",
        "num_scaled = scaler.fit_transform(df[num_cols])\n",
        "\n",
        "# Объединение в одну таблицу для модели\n",
        "X_ready = np.hstack([cat_encoded, num_scaled])"
      ],
      "metadata": {
        "id": "SltQCroEDFFj"
      },
      "execution_count": null,
      "outputs": []
    },
    {
      "cell_type": "markdown",
      "source": [
        "### Моделирование"
      ],
      "metadata": {
        "id": "FjsSk7mRFKkO"
      }
    },
    {
      "cell_type": "code",
      "source": [],
      "metadata": {
        "id": "bEPQyN8rAyKK"
      },
      "execution_count": null,
      "outputs": []
    },
    {
      "cell_type": "markdown",
      "metadata": {
        "id": "xII6_LJFoJi_"
      },
      "source": [
        "## Подсказки\n",
        "\n",
        "Ниже представлены подсказки, то что нужно использовать и как должно называться"
      ]
    },
    {
      "cell_type": "markdown",
      "metadata": {
        "id": "JuY4g6YozpKy"
      },
      "source": [
        "### Преобразование категориальных"
      ]
    },
    {
      "cell_type": "code",
      "execution_count": null,
      "metadata": {
        "id": "K_bpGlkhzSfa"
      },
      "outputs": [],
      "source": [
        "# https://habr.com/ru/articles/456294/ - виды Encoder для категориальных признаков\n",
        "# LabelEncoder, OneHotEncoder\n",
        "# Label для bool (0,1), (yes, no), (true, false)\n",
        "# OneHot - для меток\n",
        "\n",
        "from sklearn.preprocessing import OneHotEncoder # https://scikit-learn.org/stable/modules/generated/sklearn.preprocessing.OneHotEncoder.html\n",
        "\n",
        "encoder = OneHotEncoder(sparse_output=False)  # sparse=False → выдаёт DataFrame, а не numpy матрицу\n",
        "encoded = encoder.fit_transform(X[[\"YOU_VARIABLE_NAME\"]])  # .fit_transfom(X) - обучить и трансформировать, т.е. вернуть результат"
      ]
    },
    {
      "cell_type": "code",
      "execution_count": null,
      "metadata": {
        "id": "2DIWTLnvzniK"
      },
      "outputs": [],
      "source": [
        "X_encoded = ..."
      ]
    },
    {
      "cell_type": "markdown",
      "metadata": {
        "id": "ysTXn17Dzr3H"
      },
      "source": []
    },
    {
      "cell_type": "code",
      "execution_count": null,
      "metadata": {
        "id": "YxApu4kLzaDA"
      },
      "outputs": [],
      "source": [
        "X = X.drop('YOU_VARIABLE_NAME', axis=1) if 'type' in X.columns else X # убираем базовую колонку type = [red, white]\n",
        "X = pd.concat([X, X_encoded], axis=1) if 'type_white' not in X.columns else X # оставляем 2 разные колонки [type_red, type_white]"
      ]
    },
    {
      "cell_type": "code",
      "execution_count": null,
      "metadata": {
        "id": "0nRcfBBtzn7Q"
      },
      "outputs": [],
      "source": []
    },
    {
      "cell_type": "markdown",
      "metadata": {
        "id": "2g8xnVRWztIe"
      },
      "source": [
        "### Преобразование числовых"
      ]
    },
    {
      "cell_type": "code",
      "execution_count": null,
      "metadata": {
        "id": "qgvhXjiPzIDH"
      },
      "outputs": [],
      "source": [
        "from sklearn.preprocessing import StandardScaler\n",
        "\n",
        "scaler = StandardScaler()\n",
        "X_scaled = scaler.fit_transform(X) # попробовать избавиться от категориальных. То ест не засовывать такие признаки в стандартизацию\n"
      ]
    },
    {
      "cell_type": "markdown",
      "metadata": {
        "id": "F1g1S9y3z19w"
      },
      "source": [
        "### Модель"
      ]
    },
    {
      "cell_type": "code",
      "execution_count": null,
      "metadata": {
        "id": "Pb5MFErPz4TA"
      },
      "outputs": [],
      "source": [
        "from sklearn.linear_model import LinearRegression\n",
        "\n",
        "model = LinearRegression()\n",
        "\n",
        "# model.fit(X, y) - обучение\n",
        "# model.predict(X) - предсказание y\n",
        "# model.coef_ - коэфициенты фич (каждый коэф относится по индексу к своей фиче)\n",
        "\n",
        "# для того, чтобы не запутаться используйте следующий нейминг\n",
        "model1 = LinearRegression() # модель задачи 1\n",
        "model2 = LinearRegression() # модель задачи 2\n",
        "... # и так далее"
      ]
    },
    {
      "cell_type": "markdown",
      "metadata": {
        "id": "pnybFq72zu3V"
      },
      "source": [
        "### Разделение на обучающую, тестовую"
      ]
    },
    {
      "cell_type": "code",
      "execution_count": null,
      "metadata": {
        "id": "EjRhp2c4y9Sg"
      },
      "outputs": [],
      "source": [
        "from sklearn.model_selection import train_test_split\n",
        "\n",
        "X_train, X_test, y_train, y_test = train_test_split(X_scaled, y, test_size=0.2, random_state=42) # Рездляем данные как 80% - обучение, 20% на тест"
      ]
    },
    {
      "cell_type": "code",
      "execution_count": null,
      "metadata": {
        "id": "DaRSeDT4zoqc"
      },
      "outputs": [],
      "source": []
    },
    {
      "cell_type": "code",
      "execution_count": null,
      "metadata": {
        "id": "IMxtXnJzuzx9"
      },
      "outputs": [],
      "source": []
    }
  ],
  "metadata": {
    "colab": {
      "provenance": [],
      "collapsed_sections": [
        "JuY4g6YozpKy",
        "2g8xnVRWztIe"
      ],
      "toc_visible": true,
      "include_colab_link": true
    },
    "kernelspec": {
      "display_name": "Python 3",
      "name": "python3"
    },
    "language_info": {
      "name": "python"
    }
  },
  "nbformat": 4,
  "nbformat_minor": 0
}